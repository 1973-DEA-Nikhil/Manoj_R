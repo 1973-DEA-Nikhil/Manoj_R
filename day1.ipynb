{
 "cells": [
  {
   "cell_type": "code",
   "execution_count": 1,
   "id": "97a53fb0-222a-4c1b-abc3-78f5a058b033",
   "metadata": {},
   "outputs": [],
   "source": [
    "'''\n",
    "1. Question: SQL-to-JSON Transformation\n",
    "\n",
    "You are given a list of rows from an SQL database represented as a list of dictionaries, where each dictionary corresponds to a row. \n",
    "Each row contains user_id, name, age, and city.\n",
    "Write a Python function transform_data(rows: List[Dict[str, Union[str, int]]]) -> Dict[int, Dict[str, Union[str, int]]] \n",
    "that transforms the data into a dictionary format where the keys are the user_id values, and the corresponding value is a dictionary of the\n",
    "remaining fields (name, age, city).\n",
    "\n",
    "'''\n",
    "rows = [\n",
    "    {\"user_id\": 1, \"name\": \"Alice\", \"age\": 25, \"city\": \"New York\"},\n",
    "    {\"user_id\": 2, \"name\": \"Bob\", \"age\": 30, \"city\": \"San Francisco\"}\n",
    "]"
   ]
  },
  {
   "cell_type": "code",
   "execution_count": 15,
   "id": "2c619a25-bf60-4344-83b8-3b31d089911f",
   "metadata": {},
   "outputs": [
    {
     "name": "stdout",
     "output_type": "stream",
     "text": [
      "{'user_id': 2, 'name': 'Bob', 'age': 30, 'city': 'San Francisco'}\n",
      "Alice\n"
     ]
    }
   ],
   "source": [
    "print(rows[1])\n",
    "print(rows[0]['name'])\n"
   ]
  },
  {
   "cell_type": "code",
   "execution_count": 33,
   "id": "e1d9782d-5a3f-4236-917e-849e13bd5f71",
   "metadata": {},
   "outputs": [
    {
     "name": "stdout",
     "output_type": "stream",
     "text": [
      "{1: {25, 'New York', 'Alice'}, 2: {'Bob', 'San Francisco', 30}}\n"
     ]
    }
   ],
   "source": [
    "def program1(dic):\n",
    "    dic=dict()\n",
    "    for i in range(len(rows)):\n",
    "        dic[rows[i]['user_id']]={rows[i]['name'],rows[i]['age'],rows[i]['city']}\n",
    "    return dic\n",
    "\n",
    "print(program1(rows))"
   ]
  },
  {
   "cell_type": "code",
   "execution_count": 63,
   "id": "8aec74ec-4d79-4822-aaf9-b8b6d2de0752",
   "metadata": {},
   "outputs": [
    {
     "name": "stdout",
     "output_type": "stream",
     "text": [
      "<class 'datetime.datetime'>\n"
     ]
    }
   ],
   "source": [
    "'''\n",
    "2. Question: Process Log Files\n",
    "\n",
    "You are given a list of log file entries, where each entry is a string in the format \"[timestamp] user_id action\". \n",
    "The action can be either \"start\" or \"stop\". Your task is to write a Python function process_logs(logs: List[str]) -> Dict[int, int] that \n",
    "returns a dictionary mapping each user_id to the total duration (in seconds) they were active (i.e., between start and stop).\n",
    "\n",
    "Assume:\n",
    "\n",
    "    All start actions are followed by a stop for the same user.\n",
    "    The timestamp is in the format \"YYYY-MM-DD HH:MM:SS\".\n",
    "'''\n",
    "\n",
    "logs = [\n",
    "    \"[2024-01-01 10:00:00] 1 start\",\n",
    "    \"[2024-01-01 10:05:00] 1 stop\",\n",
    "    \"[2024-01-01 10:00:00] 2 start\",\n",
    "    \"[2024-01-01 10:10:00] 2 stop\"\n",
    "]\n",
    "\n",
    "from datetime import datetime\n",
    "\n",
    "time1=datetime.strptime(logs[0][1:20],\"%Y-%m-%d %H:%M:%S\")\n",
    "print(type(time1))\n",
    "\n"
   ]
  },
  {
   "cell_type": "code",
   "execution_count": 87,
   "id": "f35e43d0-36b7-4fbd-8004-1cb27b934fb1",
   "metadata": {},
   "outputs": [
    {
     "name": "stdout",
     "output_type": "stream",
     "text": [
      "{1: 5.0, 2: 10.0}\n"
     ]
    }
   ],
   "source": [
    "def time_diff(logs):\n",
    "    start=[]\n",
    "    stop=[]\n",
    "    for i in range(len(logs)):\n",
    "        time=datetime.strptime(logs[i][1:20],\"%Y-%m-%d %H:%M:%S\")\n",
    "        #print(time)\n",
    "        if i%2==0:\n",
    "            start.append(time)\n",
    "        else:\n",
    "            stop.append(time)\n",
    "    dic=dict()\n",
    "    #print(start)\n",
    "    for i in range(len(start)):\n",
    "        #print(start[i])\n",
    "        dic[i+1]=(stop[i]-start[i]).seconds/60\n",
    "    return dic\n",
    "\n",
    "        \n",
    "print(time_diff(logs))\n",
    "\n"
   ]
  },
  {
   "cell_type": "code",
   "execution_count": 98,
   "id": "28356ee7-5616-41f2-a5e4-4fff9e1abdeb",
   "metadata": {},
   "outputs": [
    {
     "name": "stdout",
     "output_type": "stream",
     "text": [
      "2024-01-01 10:00:00\n",
      "2024-01-01 10:05:00\n",
      "2024-01-01 10:00:00\n",
      "2024-01-01 10:10:00\n",
      "[datetime.datetime(2024, 1, 1, 10, 0), datetime.datetime(2024, 1, 1, 10, 0)]\n",
      "2024-01-01 10:00:00\n",
      "2024-01-01 10:00:00\n",
      "Log 1: 0 days, 0 hours, 5 minutes, 0 seconds\n",
      "Log 2: 0 days, 0 hours, 10 minutes, 0 seconds\n"
     ]
    }
   ],
   "source": [
    "#date time diff\n",
    "\n",
    "def time_diff(logs):\n",
    "    start=[]\n",
    "    stop=[]\n",
    "    for i in range(len(logs)):\n",
    "        time=datetime.strptime(logs[i][1:20],\"%Y-%m-%d %H:%M:%S\")\n",
    "        print(time)\n",
    "        if i%2==0:\n",
    "            start.append(time)\n",
    "        else:\n",
    "            stop.append(time)\n",
    "\n",
    "    dic=dict()\n",
    "    print(start)\n",
    "    for i in range(len(start)):\n",
    "        print(start[i])\n",
    "        dic[i+1]=(stop[i]-start[i])\n",
    "    return dic\n",
    "\n",
    "        \n",
    "time_diff=time_diff(logs)\n",
    "for log,diff in time_diff.items():\n",
    "    days=diff.days\n",
    "    seconds=diff.seconds\n",
    "    # Convert seconds into hours, minutes, and seconds\n",
    "    hours = seconds // 3600\n",
    "    minutes = (seconds % 3600) // 60\n",
    "    seconds = seconds % 60\n",
    "    \n",
    "    print(f\"Log {log Question: Data Deduplication\n",
    "\n",
    "You are given a list of dictionaries representing records, where each dictionary contains id, name, and email. Write a Python function deduplicate(records: List[Dict[str, str]]) -> List[Dict[str, str]] that removes duplicate records based on the email field and returns a list of unique records. Keep the first occurrence of each email.\n",
    "Example:\n",
    "\n",
    "records = [\n",
    "    {\"id\": \"1\", \"name\": \"Alice\", \"email\": \"alice@example.com\"},\n",
    "    {\"id\": \"2\", \"name\": \"Bob\", \"email\": \"bob@example.com\"},\n",
    "    {\"id\": \"3\", \"name\": \"Alice\", \"email\": \"alice@example.com\"}\n",
    "]}: {days} days, {hours} hours, {minutes} minutes, {seconds} seconds\")\n",
    "\n"
   ]
  },
  {
   "cell_type": "code",
   "execution_count": 122,
   "id": "ac95d829-0d04-4b55-b392-af0ec85b30a5",
   "metadata": {},
   "outputs": [
    {
     "name": "stdout",
     "output_type": "stream",
     "text": [
      "[{'id': '1', 'name': 'Alice', 'email': 'alice@example.com'}, {'id': '2', 'name': 'Bob', 'email': 'bob@example.com'}]\n"
     ]
    }
   ],
   "source": [
    "'''\n",
    "Question 3: Data Deduplication\n",
    "\n",
    "You are given a list of dictionaries representing records, where each dictionary contains id, name, and email. Write a Python function deduplicate(records: List[Dict[str, str]]) -> List[Dict[str, str]] that removes duplicate records based on the email field and returns a list of unique records. Keep the first occurrence of each email.\n",
    "Example:\n",
    "\n",
    "'''\n",
    "records = [\n",
    "    {\"id\": \"1\", \"name\": \"Alice\", \"email\": \"alice@example.com\"},\n",
    "    {\"id\": \"2\", \"name\": \"Bob\", \"email\": \"bob@example.com\"},\n",
    "    {\"id\": \"3\", \"name\": \"Alice\", \"email\": \"alice@example.com\"}\n",
    "]\n",
    "\n",
    "def remove_duplicate(record):\n",
    "    unique=[]\n",
    "    seen=set()\n",
    "    for  i in record:\n",
    "        key=(i[\"name\"],i[\"email\"])\n",
    "        if key not in seen:\n",
    "            unique.append(i)\n",
    "            seen.add(key)\n",
    "    return unique\n",
    "    \n",
    "print(remove_duplicate(records))\n",
    "    "
   ]
  },
  {
   "cell_type": "code",
   "execution_count": 131,
   "id": "7eaaa78b-38ca-4b0b-8660-7131aa1aa2b9",
   "metadata": {},
   "outputs": [
    {
     "name": "stdout",
     "output_type": "stream",
     "text": [
      "[60, 90, 120]\n"
     ]
    }
   ],
   "source": [
    "'''\n",
    "Question 4: Sliding Window Aggregation\n",
    "\n",
    "You are given a list of integers representing transaction amounts and a window size k. Write a Python function sliding_window_sum(transactions: List[int], k: int) -> List[int] that returns a list containing the sum of every sliding window of size k.\n",
    "Example:\n",
    "\n",
    "transactions = [10, 20, 30, 40, 50]\n",
    "k = 3\n",
    "\n",
    "'''\n",
    "transactions = [10, 20, 30, 40, 50]\n",
    "k = 3\n",
    "def sliding(transactions ,k):\n",
    "    li=[]\n",
    "    for i in range(len(transactions)-(k-1)):\n",
    "        li.append(sum(transactions[i:i+k]))\n",
    "    return li\n",
    "print(sliding(transactions ,k))\n",
    "              \n"
   ]
  },
  {
   "cell_type": "code",
   "execution_count": 142,
   "id": "ffdd309a-8bec-4883-ba31-deb63468c23e",
   "metadata": {},
   "outputs": [
    {
     "name": "stdout",
     "output_type": "stream",
     "text": [
      "{'user.id': 1, 'user.details.name': 'Alice', 'user.details.address.city': 'New York', 'user.details.address.zipcode': 10001} "
     ]
    }
   ],
   "source": [
    "'''5. Question: Flatten Nested JSON\n",
    "\n",
    "You are given a nested JSON-like dictionary structure. Write a Python function flatten_json(nested_dict: Dict[str, Any]) -> Dict[str, Any] that flattens the dictionary, where nested keys are represented as a concatenation of keys separated by a period (.).\n",
    "Example:\n",
    "\n",
    "nested_dict = {\n",
    "    \"user\": {\n",
    "        \"id\": 1,\n",
    "        \"details\": {\n",
    "            \"name\": \"Alice\",\n",
    "            \"address\": {\n",
    "                \"city\": \"New York\",\n",
    "                \"zipcode\": 10001\n",
    "            }\n",
    "        }\n",
    "    }\n",
    "}\n",
    "\n",
    "'''\n",
    "\n",
    "nested_dict = {\n",
    "    \"user\": {\n",
    "        \"id\": 1,\n",
    "        \"details\": {\n",
    "            \"name\": \"Alice\",\n",
    "            \"address\": {\n",
    "                \"city\": \"New York\",\n",
    "                \"zipcode\": 10001\n",
    "            }\n",
    "        }\n",
    "    }\n",
    "}\n",
    "\n",
    "dic={}\n",
    "import pandas as pd\n",
    "\n",
    "# Example nested dictionary\n",
    "nested_dict = {\n",
    "    \"user\": {\n",
    "        \"id\": 1,\n",
    "        \"details\": {\n",
    "            \"name\": \"Alice\",\n",
    "            \"address\": {\n",
    "                \"city\": \"New York\",\n",
    "                \"zipcode\": 10001\n",
    "            }\n",
    "        }\n",
    "    }\n",
    "}\n",
    "\n",
    "# Flatten the nested dictionary\n",
    "flat_dict = pd.json_normalize(nested_dict, sep='.')\n",
    "\n",
    "# Convert the DataFrame back to a dictionary\n",
    "result = flat_dict.to_dict(orient='records')[0]\n",
    "\n",
    "# Print the flattened dictionary\n",
    "print(result,end=\" \")\n",
    "\n"
   ]
  },
  {
   "cell_type": "code",
   "execution_count": 143,
   "id": "59e30707-d689-4bf3-a0af-9441a79ae478",
   "metadata": {},
   "outputs": [
    {
     "name": "stdout",
     "output_type": "stream",
     "text": [
      "{'user.id': 1, 'user.details.name': 'Alice', 'user.details.address.city': 'New York', 'user.details.address.zipcode': 10001}\n"
     ]
    }
   ],
   "source": [
    "#manuall\n",
    "\n",
    "def flatten_dict(d, parent_key='', sep='.'):\n",
    "    items = []\n",
    "    \n",
    "    # Iterate through each key-value pair in the dictionary\n",
    "    for k, v in d.items():\n",
    "        # Create a new key by combining the parent key with the current key\n",
    "        new_key = parent_key + sep + k if parent_key else k\n",
    "        \n",
    "        # If the value is a dictionary, recursively flatten it\n",
    "        if isinstance(v, dict):\n",
    "            items.extend(flatten_dict(v, new_key, sep=sep).items())\n",
    "        else:\n",
    "            # If the value is not a dictionary, add it to the items list\n",
    "            items.append((new_key, v))\n",
    "    \n",
    "    return dict(items)\n",
    "\n",
    "# Example nested dictionary\n",
    "nested_dict = {\n",
    "    \"user\": {\n",
    "        \"id\": 1,\n",
    "        \"details\": {\n",
    "            \"name\": \"Alice\",\n",
    "            \"address\": {\n",
    "                \"city\": \"New York\",\n",
    "                \"zipcode\": 10001\n",
    "            }\n",
    "        }\n",
    "    }\n",
    "}\n",
    "\n",
    "# Flatten the dictionary and print the result\n",
    "flat_dict = flatten_dict(nested_dict)\n",
    "print(flat_dict)\n"
   ]
  },
  {
   "cell_type": "code",
   "execution_count": 148,
   "id": "8521a092-5880-41ac-8841-aed6f322f1a7",
   "metadata": {},
   "outputs": [
    {
     "name": "stdout",
     "output_type": "stream",
     "text": [
      "{'apple': 3, 'banana': 2, 'orange': 1}\n",
      "apple banana "
     ]
    }
   ],
   "source": [
    "'''\n",
    "6. Question: Find Top N Frequent Words\n",
    "You are given a list of words, and you need to find the top N most frequent words. \n",
    "Write a Python function top_n_frequent_words(words: List[str], n: int) -> List[str] that returns a list of the top N frequent words. \n",
    "The result should be sorted by frequency,\n",
    "and if two words have the same frequency, they should be sorted lexicographically.\n",
    "\n",
    "'''\n",
    "\n",
    "words = [\"apple\", \"banana\", \"apple\", \"orange\", \"banana\", \"apple\"]\n",
    "n = 2\n",
    "di=dict()\n",
    "\n",
    "for i in words :\n",
    "    if i not in di:\n",
    "        di[i]=1\n",
    "    else:\n",
    "        di[i]+=1\n",
    "            \n",
    "print(di)  \n",
    "for key,value in di.items():\n",
    "    if value>=2:\n",
    "        print(key,end=\" \")"
   ]
  },
  {
   "cell_type": "code",
   "execution_count": 159,
   "id": "9d6f2bbe-0241-465f-acf3-77ae2c0a55c8",
   "metadata": {},
   "outputs": [
    {
     "data": {
      "text/html": [
       "<div>\n",
       "<style scoped>\n",
       "    .dataframe tbody tr th:only-of-type {\n",
       "        vertical-align: middle;\n",
       "    }\n",
       "\n",
       "    .dataframe tbody tr th {\n",
       "        vertical-align: top;\n",
       "    }\n",
       "\n",
       "    .dataframe thead th {\n",
       "        text-align: right;\n",
       "    }\n",
       "</style>\n",
       "<table border=\"1\" class=\"dataframe\">\n",
       "  <thead>\n",
       "    <tr style=\"text-align: right;\">\n",
       "      <th></th>\n",
       "      <th>id</th>\n",
       "      <th>name</th>\n",
       "      <th>department_name</th>\n",
       "    </tr>\n",
       "  </thead>\n",
       "  <tbody>\n",
       "    <tr>\n",
       "      <th>0</th>\n",
       "      <td>1</td>\n",
       "      <td>Alice</td>\n",
       "      <td>Engineering</td>\n",
       "    </tr>\n",
       "    <tr>\n",
       "      <th>1</th>\n",
       "      <td>2</td>\n",
       "      <td>Bob</td>\n",
       "      <td>Marketing</td>\n",
       "    </tr>\n",
       "  </tbody>\n",
       "</table>\n",
       "</div>"
      ],
      "text/plain": [
       "   id   name department_name\n",
       "0   1  Alice     Engineering\n",
       "1   2    Bob       Marketing"
      ]
     },
     "execution_count": 159,
     "metadata": {},
     "output_type": "execute_result"
    }
   ],
   "source": [
    "'''\n",
    "7. Question: Merge DataFrames\n",
    "\n",
    "You are given two lists of dictionaries, employees and departments, which represent two tables in a relational database. Each employee has a department_id that links them to a department. Write a Python function merge_data(employees: List[Dict[str, Union[str, int]]], departments: List[Dict[str, str]]) -> List[Dict[str, Union[str, int]]] that merges the two datasets into one, adding the department_name to each employee's data.\n",
    "Example:\n",
    "\n",
    "employees = [\n",
    "    {\"id\": 1, \"name\": \"Alice\", \"department_id\": 2},\n",
    "    {\"id\": 2, \"name\": \"Bob\", \"department_id\": 1}\n",
    "]\n",
    "departments = [\n",
    "    {\"id\": 1, \"department_name\": \"Engineering\"},\n",
    "    {\"id\": 2, \"department_name\": \"Marketing\"}\n",
    "]\n",
    "'''\n",
    "employees = [\n",
    "    {\"id\": 1, \"name\": \"Alice\", \"department_id\": 2},\n",
    "    {\"id\": 2, \"name\": \"Bob\", \"department_id\": 1}\n",
    "]\n",
    "departments = [\n",
    "    {\"id\": 1, \"department_name\": \"Engineering\"},\n",
    "    {\"id\": 2, \"department_name\": \"Marketing\"}\n",
    "]\n",
    "\n",
    "import pandas as pd\n",
    "\n",
    "df1=pd.DataFrame(employees)\n",
    "df2=pd.DataFrame(departments )\n",
    "df3=pd.merge(df1,df2,left_on=\"id\",right_on=\"id\")\n",
    "df3.drop(columns=['department_id'])"
   ]
  },
  {
   "cell_type": "code",
   "execution_count": 175,
   "id": "e3a6fd25-a4ae-4231-834b-86d800d24cd9",
   "metadata": {},
   "outputs": [
    {
     "name": "stdout",
     "output_type": "stream",
     "text": [
      "10.0\n",
      "15.0\n",
      "20.0\n"
     ]
    }
   ],
   "source": [
    "\n",
    "'''\n",
    "Write a class MovingAverage that computes the moving average of the last k values from a data stream. The class should implement two methods:\n",
    "\n",
    "    __init__(self, k: int) initializes the moving average with the window size k.\n",
    "    next(self, val: int) -> float returns the moving average of the last k values.\n",
    "\n",
    "Example:\n",
    "\n",
    "ma = MovingAverage(3)\n",
    "print(ma.next(10))  # returns 10.0\n",
    "print(ma.next(20))  # returns 15.0\n",
    "print(ma.next(30))  # returns 20.0\n",
    "print(ma.next(40))  # returns 30.0\n",
    "\n",
    "'''\n",
    "\n",
    "class MovingAverage:\n",
    "    def __init__(self,k):\n",
    "        self.k=k\n",
    "        self.li=[]\n",
    "        self.total=0\n",
    "        self.index=0\n",
    "    def next(self, value):\n",
    "        self.li.append(value)\n",
    "        self.total += value  \n",
    "\n",
    "        if len(self.li) > self.k:\n",
    "            oldest_value = self.li.pop(0) \n",
    "            self.total -= oldest_value  \n",
    "\n",
    "        # Calculate the average\n",
    "        return self.total / len(self.li) \n",
    "\n",
    "ma = MovingAverage(3)\n",
    "print(ma.next(10))  # returns 10.0\n",
    "print(ma.next(20))  # returns 15.0 \n",
    "print(ma.next(30))  # returns 20.0     \n",
    "            "
   ]
  },
  {
   "cell_type": "code",
   "execution_count": 6,
   "id": "74bde797-1e4c-4d00-8790-636f9bc302c7",
   "metadata": {},
   "outputs": [
    {
     "name": "stdout",
     "output_type": "stream",
     "text": [
      "    name  age       location\n",
      "0  Alice   25       New York\n",
      "1    Bob   30  San Francisco\n"
     ]
    },
    {
     "data": {
      "text/html": [
       "<div>\n",
       "<style scoped>\n",
       "    .dataframe tbody tr th:only-of-type {\n",
       "        vertical-align: middle;\n",
       "    }\n",
       "\n",
       "    .dataframe tbody tr th {\n",
       "        vertical-align: top;\n",
       "    }\n",
       "\n",
       "    .dataframe thead th {\n",
       "        text-align: right;\n",
       "    }\n",
       "</style>\n",
       "<table border=\"1\" class=\"dataframe\">\n",
       "  <thead>\n",
       "    <tr style=\"text-align: right;\">\n",
       "      <th></th>\n",
       "      <th>name</th>\n",
       "      <th>age</th>\n",
       "      <th>city</th>\n",
       "    </tr>\n",
       "  </thead>\n",
       "  <tbody>\n",
       "    <tr>\n",
       "      <th>0</th>\n",
       "      <td>Alice</td>\n",
       "      <td>25</td>\n",
       "      <td>New York</td>\n",
       "    </tr>\n",
       "    <tr>\n",
       "      <th>1</th>\n",
       "      <td>Bob</td>\n",
       "      <td>30</td>\n",
       "      <td>San Francisco</td>\n",
       "    </tr>\n",
       "  </tbody>\n",
       "</table>\n",
       "</div>"
      ],
      "text/plain": [
       "    name  age           city\n",
       "0  Alice   25       New York\n",
       "1    Bob   30  San Francisco"
      ]
     },
     "execution_count": 6,
     "metadata": {},
     "output_type": "execute_result"
    }
   ],
   "source": [
    "'''\n",
    "Question: JSON Field Renaming\n",
    "\n",
    "You are given a list of dictionaries representing JSON objects, where each dictionary has fields name, age, and location. Your task is to write a Python function rename_fields(data: List[Dict[str, Union[str, int]]]) -> List[Dict[str, Union[str, int]]] that renames the field location to city for each dictionary in the list.\n",
    "Example:\n",
    "\n",
    "data = [\n",
    "    {\"name\": \"Alice\", \"age\": 25, \"location\": \"New York\"},\n",
    "    {\"name\": \"Bob\", \"age\": 30, \"location\": \"San Francisco\"}\n",
    "]\n",
    "\n",
    "output:\n",
    "[\n",
    "    {\"name\": \"Alice\", \"age\": 25, \"city\": \"New York\"},\n",
    "    {\"name\": \"Bob\", \"age\": 30, \"city\": \"San Francisco\"}\n",
    "]\n",
    "'''\n",
    "data = [\n",
    "    {\"name\": \"Alice\", \"age\": 25, \"location\": \"New York\"},\n",
    "    {\"name\": \"Bob\", \"age\": 30, \"location\": \"San Francisco\"}\n",
    "]\n",
    "\n",
    "import pandas as pd\n",
    "\n",
    "df=pd.DataFrame(data)\n",
    "print(df)\n",
    "\n",
    "df.rename(columns={\"location\":\"city\"},inplace=True)\n",
    "df"
   ]
  },
  {
   "cell_type": "code",
   "execution_count": null,
   "id": "a33678a9-8b59-4186-9c44-8d94df64689c",
   "metadata": {},
   "outputs": [],
   "source": []
  }
 ],
 "metadata": {
  "kernelspec": {
   "display_name": "Python 3 (ipykernel)",
   "language": "python",
   "name": "python3"
  },
  "language_info": {
   "codemirror_mode": {
    "name": "ipython",
    "version": 3
   },
   "file_extension": ".py",
   "mimetype": "text/x-python",
   "name": "python",
   "nbconvert_exporter": "python",
   "pygments_lexer": "ipython3",
   "version": "3.10.1"
  }
 },
 "nbformat": 4,
 "nbformat_minor": 5
}
