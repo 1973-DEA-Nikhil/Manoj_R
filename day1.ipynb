{
 "cells": [
  {
   "cell_type": "code",
   "execution_count": 1,
   "id": "97a53fb0-222a-4c1b-abc3-78f5a058b033",
   "metadata": {},
   "outputs": [],
   "source": [
    "'''\n",
    "1. Question: SQL-to-JSON Transformation\n",
    "\n",
    "You are given a list of rows from an SQL database represented as a list of dictionaries, where each dictionary corresponds to a row. \n",
    "Each row contains user_id, name, age, and city.\n",
    "Write a Python function transform_data(rows: List[Dict[str, Union[str, int]]]) -> Dict[int, Dict[str, Union[str, int]]] \n",
    "that transforms the data into a dictionary format where the keys are the user_id values, and the corresponding value is a dictionary of the\n",
    "remaining fields (name, age, city).\n",
    "\n",
    "'''\n",
    "rows = [\n",
    "    {\"user_id\": 1, \"name\": \"Alice\", \"age\": 25, \"city\": \"New York\"},\n",
    "    {\"user_id\": 2, \"name\": \"Bob\", \"age\": 30, \"city\": \"San Francisco\"}\n",
    "]"
   ]
  },
  {
   "cell_type": "code",
   "execution_count": 15,
   "id": "2c619a25-bf60-4344-83b8-3b31d089911f",
   "metadata": {},
   "outputs": [
    {
     "name": "stdout",
     "output_type": "stream",
     "text": [
      "{'user_id': 2, 'name': 'Bob', 'age': 30, 'city': 'San Francisco'}\n",
      "Alice\n"
     ]
    }
   ],
   "source": [
    "print(rows[1])\n",
    "print(rows[0]['name'])\n"
   ]
  },
  {
   "cell_type": "code",
   "execution_count": 33,
   "id": "e1d9782d-5a3f-4236-917e-849e13bd5f71",
   "metadata": {},
   "outputs": [
    {
     "name": "stdout",
     "output_type": "stream",
     "text": [
      "{1: {25, 'New York', 'Alice'}, 2: {'Bob', 'San Francisco', 30}}\n"
     ]
    }
   ],
   "source": [
    "def program1(dic):\n",
    "    dic=dict()\n",
    "    for i in range(len(rows)):\n",
    "        dic[rows[i]['user_id']]={rows[i]['name'],rows[i]['age'],rows[i]['city']}\n",
    "    return dic\n",
    "\n",
    "print(program1(rows))"
   ]
  },
  {
   "cell_type": "code",
   "execution_count": 63,
   "id": "8aec74ec-4d79-4822-aaf9-b8b6d2de0752",
   "metadata": {},
   "outputs": [
    {
     "name": "stdout",
     "output_type": "stream",
     "text": [
      "<class 'datetime.datetime'>\n"
     ]
    }
   ],
   "source": [
    "'''\n",
    "2. Question: Process Log Files\n",
    "\n",
    "You are given a list of log file entries, where each entry is a string in the format \"[timestamp] user_id action\". \n",
    "The action can be either \"start\" or \"stop\". Your task is to write a Python function process_logs(logs: List[str]) -> Dict[int, int] that \n",
    "returns a dictionary mapping each user_id to the total duration (in seconds) they were active (i.e., between start and stop).\n",
    "\n",
    "Assume:\n",
    "\n",
    "    All start actions are followed by a stop for the same user.\n",
    "    The timestamp is in the format \"YYYY-MM-DD HH:MM:SS\".\n",
    "'''\n",
    "\n",
    "logs = [\n",
    "    \"[2024-01-01 10:00:00] 1 start\",\n",
    "    \"[2024-01-01 10:05:00] 1 stop\",\n",
    "    \"[2024-01-01 10:00:00] 2 start\",\n",
    "    \"[2024-01-01 10:10:00] 2 stop\"\n",
    "]\n",
    "\n",
    "from datetime import datetime\n",
    "\n",
    "time1=datetime.strptime(logs[0][1:20],\"%Y-%m-%d %H:%M:%S\")\n",
    "print(type(time1))\n",
    "\n"
   ]
  },
  {
   "cell_type": "code",
   "execution_count": 87,
   "id": "f35e43d0-36b7-4fbd-8004-1cb27b934fb1",
   "metadata": {},
   "outputs": [
    {
     "name": "stdout",
     "output_type": "stream",
     "text": [
      "{1: 5.0, 2: 10.0}\n"
     ]
    }
   ],
   "source": [
    "def time_diff(logs):\n",
    "    start=[]\n",
    "    stop=[]\n",
    "    for i in range(len(logs)):\n",
    "        time=datetime.strptime(logs[i][1:20],\"%Y-%m-%d %H:%M:%S\")\n",
    "        #print(time)\n",
    "        if i%2==0:\n",
    "            start.append(time)\n",
    "        else:\n",
    "            stop.append(time)\n",
    "    dic=dict()\n",
    "    #print(start)\n",
    "    for i in range(len(start)):\n",
    "        #print(start[i])\n",
    "        dic[i+1]=(stop[i]-start[i]).seconds/60\n",
    "    return dic\n",
    "\n",
    "        \n",
    "print(time_diff(logs))\n",
    "\n"
   ]
  },
  {
   "cell_type": "code",
   "execution_count": 98,
   "id": "28356ee7-5616-41f2-a5e4-4fff9e1abdeb",
   "metadata": {},
   "outputs": [
    {
     "name": "stdout",
     "output_type": "stream",
     "text": [
      "2024-01-01 10:00:00\n",
      "2024-01-01 10:05:00\n",
      "2024-01-01 10:00:00\n",
      "2024-01-01 10:10:00\n",
      "[datetime.datetime(2024, 1, 1, 10, 0), datetime.datetime(2024, 1, 1, 10, 0)]\n",
      "2024-01-01 10:00:00\n",
      "2024-01-01 10:00:00\n",
      "Log 1: 0 days, 0 hours, 5 minutes, 0 seconds\n",
      "Log 2: 0 days, 0 hours, 10 minutes, 0 seconds\n"
     ]
    }
   ],
   "source": [
    "#date time diff\n",
    "\n",
    "def time_diff(logs):\n",
    "    start=[]\n",
    "    stop=[]\n",
    "    for i in range(len(logs)):\n",
    "        time=datetime.strptime(logs[i][1:20],\"%Y-%m-%d %H:%M:%S\")\n",
    "        print(time)\n",
    "        if i%2==0:\n",
    "            start.append(time)\n",
    "        else:\n",
    "            stop.append(time)\n",
    "\n",
    "    dic=dict()\n",
    "    print(start)\n",
    "    for i in range(len(start)):\n",
    "        print(start[i])\n",
    "        dic[i+1]=(stop[i]-start[i])\n",
    "    return dic\n",
    "\n",
    "        \n",
    "time_diff=time_diff(logs)\n",
    "for log,diff in time_diff.items():\n",
    "    days=diff.days\n",
    "    seconds=diff.seconds\n",
    "    # Convert seconds into hours, minutes, and seconds\n",
    "    hours = seconds // 3600\n",
    "    minutes = (seconds % 3600) // 60\n",
    "    seconds = seconds % 60\n",
    "    \n",
    "    print(f\"Log {log Question: Data Deduplication\n",
    "\n",
    "You are given a list of dictionaries representing records, where each dictionary contains id, name, and email. Write a Python function deduplicate(records: List[Dict[str, str]]) -> List[Dict[str, str]] that removes duplicate records based on the email field and returns a list of unique records. Keep the first occurrence of each email.\n",
    "Example:\n",
    "\n",
    "records = [\n",
    "    {\"id\": \"1\", \"name\": \"Alice\", \"email\": \"alice@example.com\"},\n",
    "    {\"id\": \"2\", \"name\": \"Bob\", \"email\": \"bob@example.com\"},\n",
    "    {\"id\": \"3\", \"name\": \"Alice\", \"email\": \"alice@example.com\"}\n",
    "]}: {days} days, {hours} hours, {minutes} minutes, {seconds} seconds\")\n",
    "\n"
   ]
  },
  {
   "cell_type": "code",
   "execution_count": 122,
   "id": "ac95d829-0d04-4b55-b392-af0ec85b30a5",
   "metadata": {},
   "outputs": [
    {
     "name": "stdout",
     "output_type": "stream",
     "text": [
      "[{'id': '1', 'name': 'Alice', 'email': 'alice@example.com'}, {'id': '2', 'name': 'Bob', 'email': 'bob@example.com'}]\n"
     ]
    }
   ],
   "source": [
    "'''\n",
    "Question 3: Data Deduplication\n",
    "\n",
    "You are given a list of dictionaries representing records, where each dictionary contains id, name, and email. Write a Python function deduplicate(records: List[Dict[str, str]]) -> List[Dict[str, str]] that removes duplicate records based on the email field and returns a list of unique records. Keep the first occurrence of each email.\n",
    "Example:\n",
    "\n",
    "'''\n",
    "records = [\n",
    "    {\"id\": \"1\", \"name\": \"Alice\", \"email\": \"alice@example.com\"},\n",
    "    {\"id\": \"2\", \"name\": \"Bob\", \"email\": \"bob@example.com\"},\n",
    "    {\"id\": \"3\", \"name\": \"Alice\", \"email\": \"alice@example.com\"}\n",
    "]\n",
    "\n",
    "def remove_duplicate(record):\n",
    "    unique=[]\n",
    "    seen=set()\n",
    "    for  i in record:\n",
    "        key=(i[\"name\"],i[\"email\"])\n",
    "        if key not in seen:\n",
    "            unique.append(i)\n",
    "            seen.add(key)\n",
    "    return unique\n",
    "    \n",
    "print(remove_duplicate(records))\n",
    "    "
   ]
  },
  {
   "cell_type": "code",
   "execution_count": 130,
   "id": "7eaaa78b-38ca-4b0b-8660-7131aa1aa2b9",
   "metadata": {},
   "outputs": [
    {
     "name": "stdout",
     "output_type": "stream",
     "text": [
      "[60, 90, 120]\n"
     ]
    }
   ],
   "source": [
    "'''\n",
    "Question 4: Sliding Window Aggregation\n",
    "\n",
    "You are given a list of integers representing transaction amounts and a window size k. Write a Python function sliding_window_sum(transactions: List[int], k: int) -> List[int] that returns a list containing the sum of every sliding window of size k.\n",
    "Example:\n",
    "\n",
    "transactions = [10, 20, 30, 40, 50]\n",
    "k = 3\n",
    "\n",
    "'''\n",
    "\n",
    "transactions = [10, 20, 30, 40, 50]\n",
    "k = 3\n",
    "li=[]\n",
    "for i in range(len(transactions)-(k-1)):\n",
    "    li.append(sum(transactions[i:i+k]))\n",
    "print(li)\n",
    "              \n"
   ]
  },
  {
   "cell_type": "code",
   "execution_count": null,
   "id": "ffdd309a-8bec-4883-ba31-deb63468c23e",
   "metadata": {},
   "outputs": [],
   "source": []
  },
  {
   "cell_type": "code",
   "execution_count": null,
   "id": "59e30707-d689-4bf3-a0af-9441a79ae478",
   "metadata": {},
   "outputs": [],
   "source": []
  }
 ],
 "metadata": {
  "kernelspec": {
   "display_name": "Python 3 (ipykernel)",
   "language": "python",
   "name": "python3"
  },
  "language_info": {
   "codemirror_mode": {
    "name": "ipython",
    "version": 3
   },
   "file_extension": ".py",
   "mimetype": "text/x-python",
   "name": "python",
   "nbconvert_exporter": "python",
   "pygments_lexer": "ipython3",
   "version": "3.10.1"
  }
 },
 "nbformat": 4,
 "nbformat_minor": 5
}
