{
 "cells": [
  {
   "cell_type": "code",
   "execution_count": 1,
   "id": "97a53fb0-222a-4c1b-abc3-78f5a058b033",
   "metadata": {},
   "outputs": [],
   "source": [
    "'''\n",
    "1. Question: SQL-to-JSON Transformation\n",
    "\n",
    "You are given a list of rows from an SQL database represented as a list of dictionaries, where each dictionary corresponds to a row. \n",
    "Each row contains user_id, name, age, and city.\n",
    "Write a Python function transform_data(rows: List[Dict[str, Union[str, int]]]) -> Dict[int, Dict[str, Union[str, int]]] \n",
    "that transforms the data into a dictionary format where the keys are the user_id values, and the corresponding value is a dictionary of the\n",
    "remaining fields (name, age, city).\n",
    "\n",
    "'''\n",
    "rows = [\n",
    "    {\"user_id\": 1, \"name\": \"Alice\", \"age\": 25, \"city\": \"New York\"},\n",
    "    {\"user_id\": 2, \"name\": \"Bob\", \"age\": 30, \"city\": \"San Francisco\"}\n",
    "]"
   ]
  },
  {
   "cell_type": "code",
   "execution_count": 15,
   "id": "2c619a25-bf60-4344-83b8-3b31d089911f",
   "metadata": {},
   "outputs": [
    {
     "name": "stdout",
     "output_type": "stream",
     "text": [
      "{'user_id': 2, 'name': 'Bob', 'age': 30, 'city': 'San Francisco'}\n",
      "Alice\n"
     ]
    }
   ],
   "source": [
    "print(rows[1])\n",
    "print(rows[0]['name'])\n"
   ]
  },
  {
   "cell_type": "code",
   "execution_count": 33,
   "id": "e1d9782d-5a3f-4236-917e-849e13bd5f71",
   "metadata": {},
   "outputs": [
    {
     "name": "stdout",
     "output_type": "stream",
     "text": [
      "{1: {25, 'New York', 'Alice'}, 2: {'Bob', 'San Francisco', 30}}\n"
     ]
    }
   ],
   "source": [
    "def program1(dic):\n",
    "    dic=dict()\n",
    "    for i in range(len(rows)):\n",
    "        dic[rows[i]['user_id']]={rows[i]['name'],rows[i]['age'],rows[i]['city']}\n",
    "    return dic\n",
    "\n",
    "print(program1(rows))"
   ]
  },
  {
   "cell_type": "code",
   "execution_count": null,
   "id": "8aec74ec-4d79-4822-aaf9-b8b6d2de0752",
   "metadata": {},
   "outputs": [],
   "source": []
  }
 ],
 "metadata": {
  "kernelspec": {
   "display_name": "Python 3 (ipykernel)",
   "language": "python",
   "name": "python3"
  },
  "language_info": {
   "codemirror_mode": {
    "name": "ipython",
    "version": 3
   },
   "file_extension": ".py",
   "mimetype": "text/x-python",
   "name": "python",
   "nbconvert_exporter": "python",
   "pygments_lexer": "ipython3",
   "version": "3.10.1"
  }
 },
 "nbformat": 4,
 "nbformat_minor": 5
}
